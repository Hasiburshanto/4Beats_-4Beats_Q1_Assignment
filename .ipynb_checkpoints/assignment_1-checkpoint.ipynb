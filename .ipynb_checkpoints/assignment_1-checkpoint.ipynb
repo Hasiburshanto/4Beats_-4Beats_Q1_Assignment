{
 "cells": [
  {
   "cell_type": "code",
   "execution_count": 1,
   "id": "d8cfe558-6e0c-419b-ae92-ac3d2e542231",
   "metadata": {},
   "outputs": [
    {
     "name": "stdout",
     "output_type": "stream",
     "text": [
      "hello\n"
     ]
    }
   ],
   "source": [
    "print(\"hello\")"
   ]
  },
  {
   "cell_type": "code",
   "execution_count": 6,
   "id": "f5552de9-e778-483d-9bc9-50b6f853fffc",
   "metadata": {},
   "outputs": [
    {
     "name": "stdout",
     "output_type": "stream",
     "text": [
      "Defaulting to user installation because normal site-packages is not writeable\n",
      "Collecting selenium\n",
      "  Downloading selenium-4.24.0-py3-none-any.whl (9.6 MB)\n",
      "\u001b[K     |████████████████████████████████| 9.6 MB 807 kB/s eta 0:00:01\n",
      "\u001b[?25hRequirement already satisfied: typing_extensions~=4.9 in /Users/shanto/Library/Python/3.9/lib/python/site-packages (from selenium) (4.12.2)\n",
      "Requirement already satisfied: urllib3[socks]<3,>=1.26 in /Users/shanto/Library/Python/3.9/lib/python/site-packages (from selenium) (2.2.2)\n",
      "Requirement already satisfied: websocket-client~=1.8 in /Users/shanto/Library/Python/3.9/lib/python/site-packages (from selenium) (1.8.0)\n",
      "Collecting trio~=0.17\n",
      "  Downloading trio-0.26.2-py3-none-any.whl (475 kB)\n",
      "\u001b[K     |████████████████████████████████| 475 kB 670 kB/s eta 0:00:01\n",
      "\u001b[?25hRequirement already satisfied: certifi>=2021.10.8 in /Users/shanto/Library/Python/3.9/lib/python/site-packages (from selenium) (2024.6.2)\n",
      "Collecting trio-websocket~=0.9\n",
      "  Downloading trio_websocket-0.11.1-py3-none-any.whl (17 kB)\n",
      "Collecting outcome\n",
      "  Downloading outcome-1.3.0.post0-py2.py3-none-any.whl (10 kB)\n",
      "Requirement already satisfied: attrs>=23.2.0 in /Users/shanto/Library/Python/3.9/lib/python/site-packages (from trio~=0.17->selenium) (24.2.0)\n",
      "Requirement already satisfied: idna in /Users/shanto/Library/Python/3.9/lib/python/site-packages (from trio~=0.17->selenium) (3.7)\n",
      "Requirement already satisfied: exceptiongroup in /Users/shanto/Library/Python/3.9/lib/python/site-packages (from trio~=0.17->selenium) (1.2.2)\n",
      "Requirement already satisfied: sniffio>=1.3.0 in /Users/shanto/Library/Python/3.9/lib/python/site-packages (from trio~=0.17->selenium) (1.3.1)\n",
      "Collecting sortedcontainers\n",
      "  Downloading sortedcontainers-2.4.0-py2.py3-none-any.whl (29 kB)\n",
      "Collecting wsproto>=0.14\n",
      "  Downloading wsproto-1.2.0-py3-none-any.whl (24 kB)\n",
      "Collecting pysocks!=1.5.7,<2.0,>=1.5.6\n",
      "  Downloading PySocks-1.7.1-py3-none-any.whl (16 kB)\n",
      "Requirement already satisfied: h11<1,>=0.9.0 in /Users/shanto/Library/Python/3.9/lib/python/site-packages (from wsproto>=0.14->trio-websocket~=0.9->selenium) (0.14.0)\n",
      "Installing collected packages: sortedcontainers, outcome, wsproto, trio, pysocks, trio-websocket, selenium\n",
      "Successfully installed outcome-1.3.0.post0 pysocks-1.7.1 selenium-4.24.0 sortedcontainers-2.4.0 trio-0.26.2 trio-websocket-0.11.1 wsproto-1.2.0\n",
      "\u001b[33mWARNING: You are using pip version 21.2.4; however, version 24.2 is available.\n",
      "You should consider upgrading via the '/Library/Developer/CommandLineTools/usr/bin/python3 -m pip install --upgrade pip' command.\u001b[0m\n"
     ]
    }
   ],
   "source": [
    "!pip3 install -U selenium"
   ]
  },
  {
   "cell_type": "code",
   "execution_count": 19,
   "id": "c61d7d4c-ec42-46f7-a5ba-1205b41ee023",
   "metadata": {},
   "outputs": [
    {
     "name": "stdout",
     "output_type": "stream",
     "text": [
      "Defaulting to user installation because normal site-packages is not writeable\n",
      "Collecting openpyxl\n",
      "  Downloading openpyxl-3.1.5-py2.py3-none-any.whl (250 kB)\n",
      "\u001b[K     |████████████████████████████████| 250 kB 932 kB/s eta 0:00:01\n",
      "\u001b[?25hCollecting et-xmlfile\n",
      "  Downloading et_xmlfile-1.1.0-py3-none-any.whl (4.7 kB)\n",
      "Installing collected packages: et-xmlfile, openpyxl\n",
      "Successfully installed et-xmlfile-1.1.0 openpyxl-3.1.5\n",
      "\u001b[33mWARNING: You are using pip version 21.2.4; however, version 24.2 is available.\n",
      "You should consider upgrading via the '/Library/Developer/CommandLineTools/usr/bin/python3 -m pip install --upgrade pip' command.\u001b[0m\n"
     ]
    }
   ],
   "source": [
    "!pip3 install openpyxl"
   ]
  },
  {
   "cell_type": "code",
   "execution_count": 1,
   "id": "14b129dd-7b0e-45f8-9b9b-969900791fc3",
   "metadata": {},
   "outputs": [
    {
     "name": "stderr",
     "output_type": "stream",
     "text": [
      "/Users/shanto/Library/Python/3.9/lib/python/site-packages/urllib3/__init__.py:35: NotOpenSSLWarning: urllib3 v2 only supports OpenSSL 1.1.1+, currently the 'ssl' module is compiled with 'LibreSSL 2.8.3'. See: https://github.com/urllib3/urllib3/issues/3020\n",
      "  warnings.warn(\n"
     ]
    },
    {
     "name": "stdout",
     "output_type": "stream",
     "text": [
      "Longest suggestion: Shanto-Mariam University of Creative Technology\n",
      "Shortest suggestion: Shanto Khan\n"
     ]
    }
   ],
   "source": [
    "from selenium import webdriver\n",
    "from selenium.webdriver.common.by import By\n",
    "import time\n",
    "\n",
    "def google_search(query):\n",
    "    chrome_driver = webdriver.Chrome() \n",
    "\n",
    "    try:\n",
    "        chrome_driver.get(\"https://www.google.com\")\n",
    "        chrome_search_box = chrome_driver.find_element(By.CLASS_NAME, \"gLFyf\")\n",
    "        chrome_search_box.send_keys(query) \n",
    "        time.sleep(2)\n",
    "        options = chrome_driver.find_elements(By.CLASS_NAME, \"G43f7e\")\n",
    "        all_suggestions = []\n",
    "        for option_1 in options:\n",
    "            for line in option_1.text.splitlines():\n",
    "                all_suggestions.append(line)\n",
    "        longest_option= max(all_suggestions, key=len)\n",
    "        shortest_option = min(all_suggestions, key=len)\n",
    "\n",
    "        return longest_option, shortest_option\n",
    "    finally:\n",
    "        chrome_driver.quit()\n",
    "\n",
    "longest, shortest = google_search(\"shanto\")\n",
    "print(\"Longest suggestion:\", longest)\n",
    "print(\"Shortest suggestion:\", shortest)\n"
   ]
  },
  {
   "cell_type": "code",
   "execution_count": 2,
   "id": "55b700af-b495-43e6-8530-a3788b2a8ed5",
   "metadata": {},
   "outputs": [
    {
     "name": "stdout",
     "output_type": "stream",
     "text": [
      "Thursday\n",
      "File overwritten successfully!\n"
     ]
    }
   ],
   "source": [
    "import openpyxl\n",
    "import random\n",
    "from datetime import datetime\n",
    "\n",
    "current_day = datetime.now().strftime('%A') \n",
    "print(current_day)\n",
    "input_file = openpyxl.load_workbook('/Users/shanto/Desktop/4beats/4BeatsQ1.xlsx')\n",
    "current_day_sheet = input_file[current_day]\n",
    "\n",
    "for row in current_day_sheet.iter_rows(min_row=1, max_row=current_day_sheet.max_row, min_col=1, max_col=current_day_sheet.max_column):\n",
    "    row_str = ''\n",
    "    for cell in row:\n",
    "        if cell.value is None: \n",
    "            row_str += 'None '\n",
    "        else:\n",
    "            row_str += str(cell.value) + ' '\n",
    "\n",
    "    if \"Keyword\" in row_str:\n",
    "        longest, shortest = google_search(row[2].value)\n",
    "        row[3].value = longest\n",
    "        row[4].value = shortest\n",
    "\n",
    "input_file.save('/Users/shanto/Desktop/4beats/4BeatsQ1.xlsx')\n",
    "\n",
    "print(\"File overwritten successfully!\")\n",
    "\n",
    "\n"
   ]
  },
  {
   "cell_type": "code",
   "execution_count": null,
   "id": "76fced7c-7e90-4bea-9061-adc2ea23b13a",
   "metadata": {},
   "outputs": [],
   "source": []
  }
 ],
 "metadata": {
  "kernelspec": {
   "display_name": "Python 3 (ipykernel)",
   "language": "python",
   "name": "python3"
  },
  "language_info": {
   "codemirror_mode": {
    "name": "ipython",
    "version": 3
   },
   "file_extension": ".py",
   "mimetype": "text/x-python",
   "name": "python",
   "nbconvert_exporter": "python",
   "pygments_lexer": "ipython3",
   "version": "3.9.6"
  }
 },
 "nbformat": 4,
 "nbformat_minor": 5
}
